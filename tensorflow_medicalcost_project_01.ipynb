{
  "nbformat": 4,
  "nbformat_minor": 0,
  "metadata": {
    "colab": {
      "provenance": [],
      "authorship_tag": "ABX9TyN0pflxxtWUiV3YM/nCrCrw",
      "include_colab_link": true
    },
    "kernelspec": {
      "name": "python3",
      "display_name": "Python 3"
    },
    "language_info": {
      "name": "python"
    }
  },
  "cells": [
    {
      "cell_type": "markdown",
      "metadata": {
        "id": "view-in-github",
        "colab_type": "text"
      },
      "source": [
        "<a href=\"https://colab.research.google.com/github/chrisdepallan/chris_projects/blob/main/tensorflow_medicalcost_project_01.ipynb\" target=\"_parent\"><img src=\"https://colab.research.google.com/assets/colab-badge.svg\" alt=\"Open In Colab\"/></a>"
      ]
    },
    {
      "cell_type": "code",
      "execution_count": null,
      "metadata": {
        "id": "XvQ5poQo0xsn"
      },
      "outputs": [],
      "source": [
        "import pandas as pd\n",
        "import tensorflow as tf\n",
        "import matplotlib.pyplot as plt\n",
        "from sklearn.model_selection import train_test_split\n",
        "from sklearn.preprocessing import OneHotEncoder,MinMaxScaler\n",
        "from sklearn.compose import make_column_transformer"
      ]
    },
    {
      "cell_type": "code",
      "source": [
        "\n",
        "from sklearn.compose import make_column_transformer\n",
        "from sklearn.preprocessing import MinMaxScaler, OneHotEncoder\n",
        "\n",
        "# Create column transformer (this will help us normalize/preprocess our data)\n",
        "ct = make_column_transformer(\n",
        "    (MinMaxScaler(), [\"age\", \"bmi\", \"children\"]), # get all values between 0 and 1\n",
        "    (OneHotEncoder(handle_unknown=\"ignore\"), [\"sex\", \"smoker\", \"region\"])\n",
        ")\n",
        "\n",
        "# Create X & y\n",
        "X = dataframe_insurance.drop(\"charges\", axis=1)\n",
        "y = dataframe_insurance[\"charges\"]\n",
        "\n",
        "# Build our train and test sets (use random state to ensure same split as before)\n",
        "X_train, X_test, y_train, y_test = train_test_split(X, y, test_size=0.2, random_state=42)\n",
        "\n",
        "# Fit column transformer on the training data only (doing so on test data would result in data leakage)\n",
        "ct.fit(X_train)\n",
        "\n",
        "# Transform training and test data with normalization (MinMaxScalar) and one hot encoding (OneHotEncoder)\n",
        "X_train_normal = ct.transform(X_train)\n",
        "X_test_normal = ct.transform(X_test)"
      ],
      "metadata": {
        "id": "4cl6Tu_ECTrj"
      },
      "execution_count": null,
      "outputs": []
    },
    {
      "cell_type": "code",
      "source": [
        "col_transformer=make_column_transformer(\n",
        "    (OneHotEncoder(handle_unknown='ignore'),[\"sex\",\"smoker\",\"region\"]),\n",
        "    (MinMaxScaler(),[\"age\",\"bmi\",\"children\"])\n",
        ")"
      ],
      "metadata": {
        "id": "ictawukWAmZ5"
      },
      "execution_count": null,
      "outputs": []
    },
    {
      "cell_type": "code",
      "source": [
        "dataframe_insurance =pd.read_csv(\"https://raw.githubusercontent.com/stedy/Machine-Learning-with-R-datasets/master/insurance.csv\")\n",
        "dataframe_insurance\n"
      ],
      "metadata": {
        "id": "GoQdU1u206ak"
      },
      "execution_count": null,
      "outputs": []
    },
    {
      "cell_type": "code",
      "source": [
        "col_tranformer"
      ],
      "metadata": {
        "id": "8VaCVUwsKSAh"
      },
      "execution_count": null,
      "outputs": []
    },
    {
      "cell_type": "code",
      "source": [
        "col_transformer=make_column_transformer(\n",
        "    (OneHotEncoder(handle_unknown='ignore'),[\"sex\",\"smoker\",\"region\"]),\n",
        "    (MinMaxScaler(),[\"age\",\"bmi\",\"children\"])\n",
        ")"
      ],
      "metadata": {
        "id": "D9ncHyK_CoOU"
      },
      "execution_count": null,
      "outputs": []
    },
    {
      "cell_type": "code",
      "source": [
        "pd.get_dummies(dataframe_insurance['sex'],prefix='sex')\n",
        "pd.get_dummies(dataframe_insurance['smoker'],prefix='smoker')\n",
        "pd.get_dummies(dataframe_insurance['region'],prefix='region')"
      ],
      "metadata": {
        "id": "jOfBZ-G91Vbr"
      },
      "execution_count": null,
      "outputs": []
    },
    {
      "cell_type": "code",
      "source": [
        "# dataframe_insurance_new=pd.get_dummies(dataframe_insurance)\n",
        "# dataframe_insurance_new"
      ],
      "metadata": {
        "id": "UX0bmeWp2kKc"
      },
      "execution_count": null,
      "outputs": []
    },
    {
      "cell_type": "code",
      "source": [
        "x=dataframe_insurance.drop(\"charges\",axis=1)\n",
        "y=dataframe_insurance['charges']\n",
        "# y_train=y[:1100]\n",
        "# y_test=y[1100:]\n",
        "# y_train,y_test"
      ],
      "metadata": {
        "id": "NIIzgNNn3GtL"
      },
      "execution_count": null,
      "outputs": []
    },
    {
      "cell_type": "code",
      "source": [
        "x=dataframe_insurance_new.drop(\"charges\",axis=1)\n",
        "y=dataframe_insurance_new['charges']\n",
        "# x_test=x[1100:]\n",
        "# x_train=x[:1100]\n",
        "# x_test,x_train"
      ],
      "metadata": {
        "id": "zCPUkHkz3gEy"
      },
      "execution_count": null,
      "outputs": []
    },
    {
      "cell_type": "code",
      "source": [
        "x_train,x_test,y_train,y_test=train_test_split(x,y,test_size=0.2,random_state=42)"
      ],
      "metadata": {
        "id": "H8LWRZhw5yUI"
      },
      "execution_count": null,
      "outputs": []
    },
    {
      "cell_type": "code",
      "source": [
        "x_train,x_test,y_train,y_test"
      ],
      "metadata": {
        "id": "i97rscCt8JmG"
      },
      "execution_count": null,
      "outputs": []
    },
    {
      "cell_type": "code",
      "source": [
        "make_column_transformer(sparse_threshold=)"
      ],
      "metadata": {
        "id": "atIYv0ke-cmi"
      },
      "execution_count": null,
      "outputs": []
    },
    {
      "cell_type": "code",
      "source": [
        "len(y_train)==len(x_train)"
      ],
      "metadata": {
        "colab": {
          "base_uri": "https://localhost:8080/"
        },
        "id": "WMjLTZSS-YXA",
        "outputId": "60088d97-6340-4105-a0f5-550ad0db12f1"
      },
      "execution_count": null,
      "outputs": [
        {
          "output_type": "execute_result",
          "data": {
            "text/plain": [
              "True"
            ]
          },
          "metadata": {},
          "execution_count": 34
        }
      ]
    },
    {
      "cell_type": "code",
      "source": [],
      "metadata": {
        "id": "sMKIj8-OFsI2"
      },
      "execution_count": null,
      "outputs": []
    },
    {
      "cell_type": "code",
      "source": [
        "from keras.api._v2.keras import metrics\n",
        "tf.random.set_seed(42)\n",
        "\n",
        "\n",
        "insurance_model=tf.keras.Sequential(\n",
        "    [tf.keras.layers.Dense(100),tf.keras.layers.Dense(100),tf.keras.layers.Dense(1)]\n",
        ")\n",
        "insurance_model.compile(\n",
        "    loss=tf.keras.losses.mae,\n",
        "    optimizer=tf.keras.optimizers.Adam(),\n",
        "    metrics=['mae']\n",
        ")\n",
        "history=insurance_model.fit(x_train_newnormal,y_train,epochs=200)"
      ],
      "metadata": {
        "id": "VqUdAM8c6kJB"
      },
      "execution_count": null,
      "outputs": []
    },
    {
      "cell_type": "code",
      "source": [
        "col_transformer.fit(x_train)\n",
        "x_train_newnormal=col_transformer.transform(x_train)\n",
        "x_test_newnormal=col_transformer.transform(x_test)\n"
      ],
      "metadata": {
        "id": "EB12tqvSJJJm"
      },
      "execution_count": null,
      "outputs": []
    },
    {
      "cell_type": "code",
      "source": [
        "y_pred=insurance_model.predict(x_test)\n"
      ],
      "metadata": {
        "id": "uAwUtUpv7tzs",
        "colab": {
          "base_uri": "https://localhost:8080/"
        },
        "outputId": "a3c87e07-28c5-49c0-95fd-8bb0314048ba"
      },
      "execution_count": null,
      "outputs": [
        {
          "output_type": "stream",
          "name": "stdout",
          "text": [
            "9/9 [==============================] - 0s 2ms/step\n"
          ]
        }
      ]
    },
    {
      "cell_type": "code",
      "source": [
        "pd.DataFrame(history.history).plot()\n",
        "plt.xlabel=\"losses\"\n",
        "plt.ylabel=\"epochs\""
      ],
      "metadata": {
        "id": "vLfxXsky-z4l",
        "colab": {
          "base_uri": "https://localhost:8080/",
          "height": 430
        },
        "outputId": "ce689ea7-9d68-4657-897e-14156951d4fb"
      },
      "execution_count": null,
      "outputs": [
        {
          "output_type": "display_data",
          "data": {
            "text/plain": [
              "<Figure size 640x480 with 1 Axes>"
            ],
            "image/png": "[encoded data removed]"
          },
          "metadata": {}
        }
      ]
    },
    {
      "cell_type": "code",
      "source": [
        "insurance_model.evaluate(x_test_newnormal,y_test)"
      ],
      "metadata": {
        "id": "4LNaOaIk8Ne9",
        "colab": {
          "base_uri": "https://localhost:8080/"
        },
        "outputId": "fa9dbd62-996e-468e-b619-e82bd4f7c8a3"
      },
      "execution_count": null,
      "outputs": [
        {
          "output_type": "stream",
          "name": "stdout",
          "text": [
            "9/9 [==============================] - 0s 2ms/step - loss: 12968.1152 - mae: 12968.1152\n"
          ]
        },
        {
          "output_type": "execute_result",
          "data": {
            "text/plain": [
              "[12968.115234375, 12968.115234375]"
            ]
          },
          "metadata": {},
          "execution_count": 84
        }
      ]
    },
    {
      "cell_type": "code",
      "source": [
        "insurance_model.evaluate(x_test_newnormal,y_test)"
      ],
      "metadata": {
        "colab": {
          "base_uri": "https://localhost:8080/"
        },
        "id": "EvkQaTwrLg5g",
        "outputId": "42003f07-465c-4f87-ce3f-6249efa73cd6"
      },
      "execution_count": null,
      "outputs": [
        {
          "output_type": "stream",
          "name": "stdout",
          "text": [
            "9/9 [==============================] - 0s 2ms/step - loss: 3175.2383 - mae: 3175.2383\n"
          ]
        },
        {
          "output_type": "execute_result",
          "data": {
            "text/plain": [
              "[3175.23828125, 3175.23828125]"
            ]
          },
          "metadata": {},
          "execution_count": 96
        }
      ]
    }
  ]
}